{
 "cells": [
  {
   "cell_type": "markdown",
   "metadata": {},
   "source": [
    "## **HW_3**\n",
    "\n",
    "---\n",
    "\n",
    "### **Q1**\n",
    "\n",
    "Install PSI-BLAST and nr database in your PC and run PSI-BLAST for at least one protein sequence randomly selected from PDB(e.g. from the first project)\n",
    "\n",
    "PSI-BLAST is available at:\n",
    "\n",
    "https://ftp.ncbi.nlm.nih.gov/blast/executables/blast+/LATEST\n",
    "\n",
    "nr database(~2G) is available at the course website:\n",
    "\n",
    "~~https://share.weiyun.com/xOrvvYbO~~\n",
    "\n",
    "https://ftp.ncbi.nlm.nih.gov/blast/db\n",
    "\n",
    "\n",
    "You should report the MSA and the PSSM matrix of your query sequence\n",
    "\n",
    "> **Ans**\n",
    "> ```shell\n",
    "> $ entry=\"Q99J83\"\n",
    "> $ psiblast -query ${entry}.fasta -db nr.00 -num_descriptions 10 -num_alignments 10 -out ${entry}_result.txt -num_iterations 3 -out_ascii_pssm ${entry}.pssm &\n",
    "\n",
    "---\n",
    "\n",
    "### **Q2**\n",
    "\n",
    "Deduce the formula of weighted profile-profile alignment:\n",
    "$$\n",
    "S(i,j)=\\vec{f_i}\\cdot\\vec{p_j}\n",
    "$$\n",
    "\n",
    "> Ans\n",
    "> $$\n",
    "> \\begin{aligned}\n",
    "S(i,j)\n",
    "&=\\sum_{k=1}^{N_1}\\sum_{l=1}^{N_2}w_{1,i}w_{2,j}B(A_{i,k},A_{j,l}) \\\\\n",
    "&=\\sum_{k=1}^{N_1}w_{1,i}(w_{2,1}B(A_{i,k},A_{j,1})+w_{2,2}B(A_{i,k},A_{j,2})+\\dots+w_{2,N_2}B(A_{i,k},A_{j,N_2})) \\\\\n",
    "&=\\sum_{k=1}^{N_1}w_{1,i}(\\sum_{n=1}^{f_{j,A}}w_{2,A,n}B(A_{i,k},A)+\\sum_{n=1}^{f_{j,A}}w_{2,R,n}B(A_{i,k},R)+\\dots+\\sum_{n=1}^{f_{j,A}}w_{2,V,n}B(A_{i,k},V)) \\\\\n",
    "&=\\sum_{k=1}^{N_1}w_{1,i}\\sum_{b=1}^{20}f'_{j,b}B(A_{i,k},b) \\\\\n",
    "&=\\sum_{a=1}^{20}\\sum_{b=1}^{20}f'_{i,a}f'_{j,b}B(a,b) \\\\\n",
    "&=\\sum_{a=1}^{20}f'_{i,a}[\\sum_{b=1}^{20}f'_{j,b}B(a,b)] \\\\\n",
    "&\\triangleq\\sum_{a=1}^{20}f'_{i,a}p'(j,a) \\\\\n",
    "&\\triangleq\\vec{f'_i}\\cdot\\vec{p'_j}\n",
    "> \\end{aligned}\n",
    "> $$\n",
    "\n",
    "---\n",
    "\n",
    "### **Q3**\n",
    "\n",
    "Write a program for profile-profile alignment (the inputs to your program are two MSAs)"
   ]
  },
  {
   "cell_type": "code",
   "execution_count": 8,
   "metadata": {},
   "outputs": [
    {
     "name": "stdout",
     "output_type": "stream",
     "text": [
      "  24 -12  -8  24  -6 -12\n",
      " -12  20  -8 -12   2  12\n",
      "  -6 -10   1  -6  -6 -12\n",
      "  24 -12  -8  24  -6 -12\n",
      "   6   3  -8   6   1   6\n"
     ]
    }
   ],
   "source": [
    "import pandas as pd\n",
    "\n",
    "# neither work for msa with unequal length nor with gaps in msa\n",
    "# because of BLOSUM62.csv doesn't record the scores of amino acid with gaps\n",
    "def msa_align(msa1,msa2):\n",
    "    df = pd.read_csv(\"./resources/BLOSUM62.csv\",index_col=0)\n",
    "    s = [ [0 for col in range(len(msa1[0]))] for row in range(len(msa2[0]))]\n",
    "    for i in range(len(msa1[0])):\n",
    "        for j in range(len(msa2[0])):\n",
    "            for k in range(len(msa1)):\n",
    "                for l in range(len(msa2)):\n",
    "                    s[j][i]+=df[msa1[k][i]][msa2[l][j]]\n",
    "    return s\n",
    "\n",
    "msa1=['GYVGSF','GFDGFF']\n",
    "msa2=['GYDGF','GYQGG']\n",
    "\n",
    "res = msa_align(msa1, msa2)\n",
    "\n",
    "for row in res:\n",
    "        for item in row:\n",
    "            print(\"%4d\" % item,end=\"\")\n",
    "        print('')"
   ]
  }
 ],
 "metadata": {
  "interpreter": {
   "hash": "e7370f93d1d0cde622a1f8e1c04877d8463912d04d973331ad4851f04de6915a"
  },
  "kernelspec": {
   "display_name": "Python 3.10.4 64-bit",
   "language": "python",
   "name": "python3"
  },
  "language_info": {
   "codemirror_mode": {
    "name": "ipython",
    "version": 3
   },
   "file_extension": ".py",
   "mimetype": "text/x-python",
   "name": "python",
   "nbconvert_exporter": "python",
   "pygments_lexer": "ipython3",
   "version": "3.10.4"
  },
  "orig_nbformat": 4
 },
 "nbformat": 4,
 "nbformat_minor": 2
}
