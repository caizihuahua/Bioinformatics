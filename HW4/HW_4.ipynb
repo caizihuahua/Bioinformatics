{
 "cells": [
  {
   "cell_type": "markdown",
   "metadata": {},
   "source": [
    "## **HW_4**\n",
    "\n",
    "---\n",
    "\n",
    "### **Q1**\n",
    "\n",
    "**概率计算问题**: 给定模型 $\\lambda=(A,B,\\pi)$, 观察序列 $O=(o_1,o_2,\\cdots,o_T)$, 计算在模型 $\\lambda$ 下观测序列 $O$ 出现的概率 $P(O|\\lambda)$。编写程序向前算法（算法2），计算观测序列的概率。并通过`例10.2`来验证程序是否正确。\n",
    "\n",
    "> **Ans**\n",
    "> \n",
    "> 定义向前变量 $\\alpha_t(i) := P(o_1,o_2,\\cdots,o_t,q_t=S_i|\\lambda), 1<t<T$, 表示 $t$ 时刻观测序列为 $o_1,o_2,\\cdots,o_t$, 且隐藏状态为 $S_i$ 的概率大小, 于是有\n",
    "> $$\n",
    "> \\begin{aligned}\n",
    "> \\\\\n",
    "> &\\alpha_1(i)=\\pi_ib_i(o_1),\\quad \\text{其中}\\pi_i\\text{表示初始时刻状态为 $i$ 的概率}, \\quad b_i(o_t) := P(o_t|q_t=S_i,\\lambda), \\\\\n",
    "> &\\alpha_{t+1}(j) = [\\sum_{i=1}^N \\alpha_t(i)a_{i,j}] b_j(o_{t+1}),\\quad t=1,2,\\cdots,T-1,\\ 1\\le j\\le N \\\\\n",
    "> \\end{aligned}\n",
    "> $$ \n",
    "> 最后有\n",
    "> $$\n",
    "> P(O|\\lambda) = \\sum_{i=1}^N\\alpha_T(i)\n",
    "> $$\n"
   ]
  },
  {
   "cell_type": "code",
   "execution_count": 2,
   "metadata": {},
   "outputs": [
    {
     "name": "stdout",
     "output_type": "stream",
     "text": [
      "观测序列为 [0, 1, 0] 的概率为:  0.130218\n",
      "0.130218\n"
     ]
    }
   ],
   "source": [
    "import numpy as np\n",
    "\n",
    "A = np.array([[0.5,0.2,0.3],[0.3,0.5,0.2],[0.2,0.3,0.5]])\n",
    "B = np.array([[0.5,0.5],[0.4,0.6],[0.7,0.3]])\n",
    "Pi = np.array([0.2,0.4,0.4])\n",
    "\n",
    "RED = 0\n",
    "WHITE = 1\n",
    "O = [RED,WHITE,RED]\n",
    "\n",
    "def forwordAlg(transition_matrix=A,emission_matrix=B,init_distribution=Pi,observation_seq=O):\n",
    "    T = len(observation_seq)\n",
    "    N = len(transition_matrix)\n",
    "    # initiation for alpha_1\n",
    "    Alpha = np.array([init_distribution[i]*emission_matrix[i][observation_seq[0]] for i in range(N)])\n",
    "    for t in range(1,T):\n",
    "        Alpha = np.array([Alpha.dot(transition_matrix[:,j])*emission_matrix[j][observation_seq[t]] for j in range(N)])\n",
    "    print(\"观测序列为\",observation_seq,\"的概率为: \",sum(Alpha))\n",
    "    return sum(Alpha)\n",
    "print(forwordAlg())\n"
   ]
  },
  {
   "cell_type": "markdown",
   "metadata": {},
   "source": [
    "### **Q2**\n",
    "\n",
    "**解码问题**：已知模型 $\\lambda=(A,B,\\pi)$ 和观测序列 $O=(o_1,o_2,\\cdots,o_T)$, 求最有可能对应的状态序列 $Q=(q_1,q_2,\\cdots,q_T)$. 即，在该状态序列下，观测序列的条件概率 $P(O|Q)$ 最大。编写Viterbi算法（算法4）并通过`例10.3`验证程序是否正确。\n",
    "\n",
    "> **Ans**\n",
    "> \n",
    "> 定义目标函数 $\\delta_t(i)=\\underset{q_1,q_2,\\cdots,q_{t-1}}{max} P[q_1q_2\\cdots,q_t=S_i,o_1,o_2,\\cdots,o_t|\\lambda]$, 所以有\n",
    "> $$\n",
    "> \\begin{aligned}\n",
    "> \\\\\n",
    "> &\\delta_{t+1} = \\underset{q_1,q_2,\\cdots,q_t}{max} P[q_1q_2\\cdots,q_t,q_{t+1}=S_i,o_1,o_2,\\cdots,o_{t+1}|\\lambda] = [\\underset{i}{max} \\delta_t(i)a_{i,j}]b_j(o_{t+1}) \\quad \\text{保存路径记为} \\quad \\Psi_t(j) = \\underset{i}{argmax}[\\delta_{t-1}a_{ij}] \\\\\n",
    "> \\end{aligned}\n",
    "> $$\n",
    "> 流程如下：\n",
    "> $$\n",
    "> \\begin{aligned}\n",
    "> \\text{初始时刻}&\\\\\n",
    "> &\\delta_1(i) = \\pi_ib_i(o_1),\\,\\Psi_1(i) = 0, \\quad 1\\le i\\le N \\\\\n",
    "> \\text{递推}&\\\\\n",
    "> &\\delta_t(j) = \\underset{1\\le i\\le N}{\\max}[\\delta_{t-1}a_{ij}]b_j(o_t),\\,\\Psi_t(j)=\\underset{1\\le i\\le N}{\\argmax}[\\delta_{t-1}a_{ij}], \\quad 2\\le t\\le T,\\,1\\le j\\le N \\\\\n",
    "> \\text{结果}&\\\\\n",
    "> &p^*=\\underset{1\\le i\\le N}{\\max}[\\delta_t(i)],\\,q_T^*=\\underset{1\\le i\\le N}{\\argmax}[\\delta_t(i)] \\\\\n",
    "> \\text{回溯}&\\\\\n",
    "> &q_t^*=\\Psi_{t+1}(q_{t+1}^*), \\quad t=T-1,T-2,\\cdots,1\n",
    "> \\end{aligned}\n",
    "> $$\n"
   ]
  },
  {
   "cell_type": "code",
   "execution_count": 5,
   "metadata": {},
   "outputs": [
    {
     "name": "stdout",
     "output_type": "stream",
     "text": [
      "最有可能状态为:  [2, 2, 2]\n"
     ]
    },
    {
     "data": {
      "text/plain": [
       "[2, 2, 2]"
      ]
     },
     "execution_count": 5,
     "metadata": {},
     "output_type": "execute_result"
    }
   ],
   "source": [
    "import numpy as np\n",
    "A = np.array([[0.5,0.2,0.3],[0.3,0.5,0.2],[0.2,0.3,0.5]])\n",
    "B = np.array([[0.5,0.5],[0.4,0.6],[0.7,0.3]])\n",
    "Pi = np.array([0.2,0.4,0.4])\n",
    "\n",
    "RED = 0\n",
    "WHITE = 1\n",
    "O = [RED,WHITE,RED]\n",
    "\n",
    "def viterbiAlg(transition_matrix=A,emission_matrix=B,init_distribution=Pi,observation_seq=O):\n",
    "    T = len(observation_seq)\n",
    "    N = len(transition_matrix)\n",
    "    Delta = init_distribution*emission_matrix[:,observation_seq[0]]\n",
    "    Phi = np.array([ [0 for j in range(N)] for t in range(T)])\n",
    "    for t in range(1,T):\n",
    "        tmpDelta = np.array([0.0 for i in range(N)])\n",
    "        for j in range(N):\n",
    "            mvlu = np.max(Delta*(transition_matrix[:,j]))\n",
    "            Phi[t][j] = np.argmax(Delta*(transition_matrix[:,j]))\n",
    "            tmpDelta[j] = mvlu*emission_matrix[j][observation_seq[t]]\n",
    "        Delta = tmpDelta.copy()\n",
    "    Pstar = np.max(Delta)\n",
    "    Qstar = [np.argmax(Delta)]\n",
    "    # traceback\n",
    "    for t in range(T,1,-1):\n",
    "        tmpQ = Phi[t-1][Qstar[-1]]\n",
    "        Qstar += [tmpQ]\n",
    "    print(\"最有可能状态为: \",Qstar[::-1])\n",
    "    return Qstar[::-1]\n",
    "\n",
    "viterbiAlg()"
   ]
  }
 ],
 "metadata": {
  "interpreter": {
   "hash": "e7370f93d1d0cde622a1f8e1c04877d8463912d04d973331ad4851f04de6915a"
  },
  "kernelspec": {
   "display_name": "Python 3.10.4 64-bit",
   "language": "python",
   "name": "python3"
  },
  "language_info": {
   "codemirror_mode": {
    "name": "ipython",
    "version": 3
   },
   "file_extension": ".py",
   "mimetype": "text/x-python",
   "name": "python",
   "nbconvert_exporter": "python",
   "pygments_lexer": "ipython3",
   "version": "3.10.4"
  },
  "orig_nbformat": 4
 },
 "nbformat": 4,
 "nbformat_minor": 2
}
